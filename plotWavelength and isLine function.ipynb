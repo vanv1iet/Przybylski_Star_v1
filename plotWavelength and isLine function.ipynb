{
 "cells": [
  {
   "cell_type": "code",
   "execution_count": 1,
   "id": "0f4d5435",
   "metadata": {},
   "outputs": [],
   "source": [
    "import numpy as np\n",
    "import math\n",
    "import matplotlib.pylab as plt\n",
    "import astropy.io.fits as fits\n",
    "import os\n",
    "import pandas as pd\n",
    "from astropy import units as u\n",
    "import astroquery\n",
    "import time\n",
    "from astroquery.atomic import AtomicLineList as alist\n",
    "%matplotlib inline"
   ]
  },
  {
   "cell_type": "code",
   "execution_count": 21,
   "id": "98fd87c1",
   "metadata": {},
   "outputs": [],
   "source": [
    "def plotWavelength(wavelength, spectralArr, specLambda, lambdaRange):\n",
    "    \"\"\"\n",
    "    plots the star's spectrum at a specific wavelength, along with a vertical line at that wavelength\n",
    "    \n",
    "    wavelength (list): list of wavelengths presented in the star's data\n",
    "    spectralArr (list): list of intensity data for each wavelength in wavelength\n",
    "    specLambda (float): the specific wavelength we want to look at\n",
    "    lambdaRange (float): the range of wavelength to be shown in the plot\n",
    "    \"\"\"\n",
    "    plt.plot(wavelength, spectralArr)\n",
    "    plt.grid(True)\n",
    "    plt.xlim(specLambda-lambdaRange/2, specLambda+lambdaRange/2)\n",
    "    plt.title(str(specLambda)+\" Å\")\n",
    "    plt.xlabel('Wavelength (Å)')\n",
    "    plt.ylabel('Intensity')\n",
    "    plt.vlines(specLambda, ymin = min(spectralArr), ymax = max(spectralArr))\n",
    "    plt.show()"
   ]
  },
  {
   "cell_type": "code",
   "execution_count": 42,
   "id": "3becf592",
   "metadata": {},
   "outputs": [],
   "source": [
    "def isLine(wavelength, spectrum, wl, wlrange, doPlot = False):\n",
    "    \"\"\"\n",
    "    determines if there is a line at a specific wavelength\n",
    "    \n",
    "    wavelength (list): list of wavelength presented in a star's spectrum\n",
    "    spectrum (list): list of a star's intensity at each wavelength in wavelength\n",
    "    wl (float): the wavelength we want to find out if there is an absorption line\n",
    "    wlrange (int): range of specification (default at 1 Angstrom)\n",
    "    doPlot (bool): indicates if we want to see the plot of the spectrum\n",
    "    \n",
    "    returns: a bool indicating if there is a line at the wavelength wl\n",
    "    \"\"\"\n",
    "    wlList = np.array(wavelength)\n",
    "    spectrumList = np.array(spectrum)\n",
    "    indexclosest = np.argmin(np.abs(wlList - wl))\n",
    "    median = np.median(spectrumList[np.where((wavelength > wl-wlrange/2) & (wavelength < wl+wlrange/2))])\n",
    "    sd = np.std(spectrumList[np.where((wavelength > wl-wlrange/2) & (wavelength < wl+wlrange/2))])\n",
    "    mean = np.mean(spectrumList[np.where((wavelength > wl-wlrange/2) & (wavelength < wl+wlrange/2))])\n",
    "    \n",
    "    #plot initial spectrum\n",
    "    if doPlot: \n",
    "        plt.plot(wavelength, spectrum)\n",
    "    \n",
    "    #initiate variables\n",
    "    index1 = index2 = indexclosest\n",
    "    line_exist = False\n",
    "    plotted_list = {}\n",
    "    \n",
    "    #plotting prospective dip\n",
    "    while spectrum[index1] <= median:\n",
    "        if doPlot: \n",
    "            plt.plot([wavelength[index1]], [spectrum[index1]], 'ko')\n",
    "        plotted_list[index1] = spectrum[index1]\n",
    "        index1 += 1\n",
    "    while spectrum[index2] <= median:\n",
    "        if doPlot: \n",
    "            plt.plot([wavelength[index2]], [spectrum[index2]], 'ko')\n",
    "        plotted_list[index2] = spectrum[index2]\n",
    "        index2 -= 1\n",
    "    \n",
    "    #determining existence of line\n",
    "    try: \n",
    "        if( \n",
    "            plotted_list[indexclosest] != 0 \n",
    "            and plotted_list[indexclosest] <= np.percentile(list(plotted_list.values()), 3) \n",
    "            and abs(median - plotted_list[indexclosest]) >= 2*sd\n",
    "            and max(plotted_list.values()) - min(plotted_list.values()) >= sd\n",
    "            and sd/mean >= 0.01\n",
    "        ):\n",
    "            line_exist = True\n",
    "            label_str = \"Line detected\"\n",
    "        else:\n",
    "            label_str = \"No line detected\"\n",
    "    except:\n",
    "        label_str = \"No line detected\"\n",
    "    \n",
    "    #showing plot + return\n",
    "    if doPlot: \n",
    "        plt.grid(True)\n",
    "        plt.xlim(wl-wlrange/2, wl+wlrange/2)\n",
    "        plt.title(str(wl)+\" Å\")\n",
    "        plt.xlabel('Wavelength (Å)')\n",
    "        plt.ylabel('Intensity') \n",
    "        if line_exist:\n",
    "            plt.vlines(wl, ymin = 0, ymax = 2*median, colors = 'b', label = label_str)\n",
    "        else:\n",
    "            plt.vlines(wl, ymin = 0, ymax = 2*median, colors = 'r', label = label_str)\n",
    "        plt.legend()\n",
    "        plt.show()\n",
    "\n",
    "    return line_exist"
   ]
  },
  {
   "cell_type": "code",
   "execution_count": 43,
   "id": "3335e71a",
   "metadata": {},
   "outputs": [
    {
     "data": {
      "text/plain": [
       "'r.HARPN.2015-07-30T12:40:51.074_S1D_A.fits'"
      ]
     },
     "execution_count": 43,
     "metadata": {},
     "output_type": "execute_result"
    }
   ],
   "source": [
    "#Example: using these two functions on Sun's spectrum in this GitHub folder\n",
    "filepath = \"Sun/\"\n",
    "filelist = os.listdir(filepath)\n",
    "filelist[0]"
   ]
  },
  {
   "cell_type": "code",
   "execution_count": 44,
   "id": "0439868b",
   "metadata": {},
   "outputs": [
    {
     "name": "stdout",
     "output_type": "stream",
     "text": [
      "Filename: Sun/r.HARPN.2015-07-30T12:40:51.074_S1D_A.fits\n",
      "No.    Name      Ver    Type      Cards   Dimensions   Format\n",
      "  0  PRIMARY       1 PrimaryHDU     836   ()      \n",
      "  1                1 BinTableHDU     24   212207R x 5C   [1D, 1D, 1D, 1D, 1J]   \n"
     ]
    }
   ],
   "source": [
    "hdul = fits.open(filepath + filelist[0])\n",
    "hdul.info()"
   ]
  },
  {
   "cell_type": "code",
   "execution_count": 45,
   "id": "8f986394",
   "metadata": {},
   "outputs": [
    {
     "data": {
      "text/plain": [
       "FITS_rec([(3869.99140072, 3868.89459449, 0., 0., 16384),\n",
       "          (3870.00198602, 3868.90517704, 0., 0., 16384),\n",
       "          (3870.01257135, 3868.91575962, 0., 0., 16384), ...,\n",
       "          (6914.8925172 , 6912.98543252, 0., 0., 16384),\n",
       "          (6914.91143099, 6913.00434122, 0., 0., 16384),\n",
       "          (6914.93034484, 6913.02324998, 0., 0., 16384)],\n",
       "         dtype=(numpy.record, [('wavelength', '>f8'), ('wavelength_air', '>f8'), ('flux', '>f8'), ('error', '>f8'), ('quality', '>i4')]))"
      ]
     },
     "execution_count": 45,
     "metadata": {},
     "output_type": "execute_result"
    }
   ],
   "source": [
    "data = hdul[1].data\n",
    "data"
   ]
  },
  {
   "cell_type": "code",
   "execution_count": 46,
   "id": "7381ca6a",
   "metadata": {},
   "outputs": [
    {
     "data": {
      "text/plain": [
       "array([3868.89459449, 3868.90517704, 3868.91575962, ..., 6912.98543252,\n",
       "       6913.00434122, 6913.02324998])"
      ]
     },
     "execution_count": 46,
     "metadata": {},
     "output_type": "execute_result"
    }
   ],
   "source": [
    "wavelength = data.field(1)\n",
    "wavelength"
   ]
  },
  {
   "cell_type": "code",
   "execution_count": 47,
   "id": "5afcc20c",
   "metadata": {},
   "outputs": [
    {
     "data": {
      "text/plain": [
       "array([0., 0., 0., ..., 0., 0., 0.])"
      ]
     },
     "execution_count": 47,
     "metadata": {},
     "output_type": "execute_result"
    }
   ],
   "source": [
    "sunSpectrum = data.field(2)\n",
    "sunSpectrum"
   ]
  },
  {
   "cell_type": "code",
   "execution_count": 48,
   "id": "98cd948c",
   "metadata": {},
   "outputs": [
    {
     "data": {
      "text/plain": [
       "[<matplotlib.lines.Line2D at 0x7fd6d80b3b20>]"
      ]
     },
     "execution_count": 48,
     "metadata": {},
     "output_type": "execute_result"
    },
    {
     "data": {
      "image/png": "[encoded data removed]",
      "text/plain": [
       "<Figure size 432x288 with 1 Axes>"
      ]
     },
     "metadata": {
      "needs_background": "light"
     },
     "output_type": "display_data"
    }
   ],
   "source": [
    "plt.plot(wavelength, sunSpectrum)\n",
    "#sample plot of the Sun's overall spectrum"
   ]
  },
  {
   "cell_type": "code",
   "execution_count": 49,
   "id": "196fafd7",
   "metadata": {},
   "outputs": [
    {
     "data": {
      "image/png": "[encoded data removed]",
      "text/plain": [
       "<Figure size 432x288 with 1 Axes>"
      ]
     },
     "metadata": {
      "needs_background": "light"
     },
     "output_type": "display_data"
    }
   ],
   "source": [
    "plotWavelength(wavelength, sunSpectrum, 6562.8, 2)\n",
    "#Example of plotWavelength function"
   ]
  },
  {
   "cell_type": "code",
   "execution_count": 50,
   "id": "e8b3d9a8",
   "metadata": {},
   "outputs": [
    {
     "data": {
      "text/plain": [
       "False"
      ]
     },
     "execution_count": 50,
     "metadata": {},
     "output_type": "execute_result"
    }
   ],
   "source": [
    "isLine(wavelength, sunSpectrum, 5000.2109, 1)\n",
    "#Example of isLine with doPlot set to False"
   ]
  },
  {
   "cell_type": "code",
   "execution_count": 56,
   "id": "da0853f5",
   "metadata": {},
   "outputs": [
    {
     "data": {
      "image/png": "[encoded data removed]",
      "text/plain": [
       "<Figure size 432x288 with 1 Axes>"
      ]
     },
     "metadata": {
      "needs_background": "light"
     },
     "output_type": "display_data"
    },
    {
     "data": {
      "text/plain": [
       "False"
      ]
     },
     "execution_count": 56,
     "metadata": {},
     "output_type": "execute_result"
    }
   ],
   "source": [
    "isLine(wavelength, sunSpectrum, 5000.2109, 1, True)\n",
    "#Example of isLine with doPlot set to True"
   ]
  },
  {
   "cell_type": "code",
   "execution_count": null,
   "id": "1eb4b18f",
   "metadata": {},
   "outputs": [],
   "source": []
  },
  {
   "cell_type": "code",
   "execution_count": null,
   "id": "16ce223c",
   "metadata": {},
   "outputs": [],
   "source": []
  }
 ],
 "metadata": {
  "kernelspec": {
   "display_name": "Python 3 (ipykernel)",
   "language": "python",
   "name": "python3"
  },
  "language_info": {
   "codemirror_mode": {
    "name": "ipython",
    "version": 3
   },
   "file_extension": ".py",
   "mimetype": "text/x-python",
   "name": "python",
   "nbconvert_exporter": "python",
   "pygments_lexer": "ipython3",
   "version": "3.8.12"
  }
 },
 "nbformat": 4,
 "nbformat_minor": 5
}
