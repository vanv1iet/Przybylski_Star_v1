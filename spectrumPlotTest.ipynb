{
 "cells": [
  {
   "cell_type": "code",
   "execution_count": 71,
   "id": "932a9e7e",
   "metadata": {},
   "outputs": [],
   "source": [
    "import numpy as np\n",
    "import math\n",
    "import matplotlib.pylab as plt\n",
    "import astropy.io.fits as fits\n",
    "import os\n",
    "%matplotlib inline"
   ]
  },
  {
   "cell_type": "code",
   "execution_count": 72,
   "id": "00768376",
   "metadata": {},
   "outputs": [
    {
     "data": {
      "text/plain": [
       "'/Users/waritwij'"
      ]
     },
     "execution_count": 72,
     "metadata": {},
     "output_type": "execute_result"
    }
   ],
   "source": [
    "pwd"
   ]
  },
  {
   "cell_type": "code",
   "execution_count": 73,
   "id": "b1e325b0",
   "metadata": {},
   "outputs": [
    {
     "data": {
      "text/plain": [
       "<function dir>"
      ]
     },
     "execution_count": 73,
     "metadata": {},
     "output_type": "execute_result"
    }
   ],
   "source": [
    "dir"
   ]
  },
  {
   "cell_type": "code",
   "execution_count": 74,
   "id": "c431ed7c",
   "metadata": {},
   "outputs": [],
   "source": [
    "filepath = \"/Users/waritwij/Downloads/UROP/\""
   ]
  },
  {
   "cell_type": "code",
   "execution_count": 75,
   "id": "4fada0df",
   "metadata": {},
   "outputs": [
    {
     "name": "stdout",
     "output_type": "stream",
     "text": [
      "HARPS.2005-04-04T04:30:17.582_bis_G2_A.fits\r\n",
      "HARPS.2005-04-04T04:30:17.582_ccf_G2_A.fits\r\n",
      "HARPS.2005-04-04T04:30:17.582_e2ds_A.fits\r\n",
      "HARPS.2005-04-04T04:30:17.582_e2ds_B.fits\r\n",
      "HARPS.2005-04-04T04:30:17.582_s1d_A.fits\r\n",
      "HARPS.2005-04-04T04:30:17.582_s1d_B.fits\r\n"
     ]
    }
   ],
   "source": [
    "ls /Users/waritwij/Downloads/UROP"
   ]
  },
  {
   "cell_type": "raw",
   "id": "59c416bc",
   "metadata": {},
   "source": []
  },
  {
   "cell_type": "code",
   "execution_count": 76,
   "id": "bea460c2",
   "metadata": {},
   "outputs": [
    {
     "name": "stdout",
     "output_type": "stream",
     "text": [
      "/Users/waritwij/Downloads/UROP/\n"
     ]
    }
   ],
   "source": [
    "print(filepath)"
   ]
  },
  {
   "cell_type": "code",
   "execution_count": 77,
   "id": "7a38aa38",
   "metadata": {},
   "outputs": [
    {
     "name": "stdout",
     "output_type": "stream",
     "text": [
      "ls: filepath: No such file or directory\r\n"
     ]
    }
   ],
   "source": [
    "ls filepath"
   ]
  },
  {
   "cell_type": "code",
   "execution_count": 78,
   "id": "ecb101d3",
   "metadata": {},
   "outputs": [],
   "source": [
    "filelist = os.listdir(filepath)"
   ]
  },
  {
   "cell_type": "code",
   "execution_count": 79,
   "id": "4fb14078",
   "metadata": {},
   "outputs": [
    {
     "data": {
      "text/plain": [
       "'HARPS.2005-04-04T04:30:17.582_s1d_A.fits'"
      ]
     },
     "execution_count": 79,
     "metadata": {},
     "output_type": "execute_result"
    }
   ],
   "source": [
    "filelist[1]"
   ]
  },
  {
   "cell_type": "code",
   "execution_count": 80,
   "id": "55377f5a",
   "metadata": {},
   "outputs": [],
   "source": [
    "hdul = fits.open(filepath + filelist[1])"
   ]
  },
  {
   "cell_type": "code",
   "execution_count": 81,
   "id": "eb1cd921",
   "metadata": {},
   "outputs": [
    {
     "name": "stdout",
     "output_type": "stream",
     "text": [
      "Filename: /Users/waritwij/Downloads/UROP/HARPS.2005-04-04T04:30:17.582_s1d_A.fits\n",
      "No.    Name      Ver    Type      Cards   Dimensions   Format\n",
      "  0  PRIMARY       1 PrimaryHDU    3011   (313131,)   float32   \n"
     ]
    }
   ],
   "source": [
    "hdul.info()"
   ]
  },
  {
   "cell_type": "code",
   "execution_count": 82,
   "id": "8e633d36",
   "metadata": {},
   "outputs": [],
   "source": [
    "spectArrA = hdul[0].data"
   ]
  },
  {
   "cell_type": "code",
   "execution_count": 83,
   "id": "8965f885",
   "metadata": {},
   "outputs": [
    {
     "data": {
      "text/plain": [
       "[<matplotlib.lines.Line2D at 0x7fa68ae28970>]"
      ]
     },
     "execution_count": 83,
     "metadata": {},
     "output_type": "execute_result"
    },
    {
     "data": {
      "image/png": "[encoded data removed]",
      "text/plain": [
       "<Figure size 432x288 with 1 Axes>"
      ]
     },
     "metadata": {
      "needs_background": "light"
     },
     "output_type": "display_data"
    }
   ],
   "source": [
    "plt.plot(spectArrA)\n",
    "#plt.xlim(200000,250000)"
   ]
  },
  {
   "cell_type": "code",
   "execution_count": 84,
   "id": "58fb16d8",
   "metadata": {},
   "outputs": [
    {
     "name": "stdout",
     "output_type": "stream",
     "text": [
      "HARPS.2005-04-04T04:30:17.582_bis_G2_A.fits\r\n",
      "HARPS.2005-04-04T04:30:17.582_ccf_G2_A.fits\r\n",
      "HARPS.2005-04-04T04:30:17.582_e2ds_A.fits\r\n",
      "HARPS.2005-04-04T04:30:17.582_e2ds_B.fits\r\n",
      "HARPS.2005-04-04T04:30:17.582_s1d_A.fits\r\n",
      "HARPS.2005-04-04T04:30:17.582_s1d_B.fits\r\n"
     ]
    }
   ],
   "source": [
    "ls /Users/waritwij/Downloads/UROP/"
   ]
  },
  {
   "cell_type": "code",
   "execution_count": 85,
   "id": "34a34ed8",
   "metadata": {},
   "outputs": [
    {
     "name": "stdout",
     "output_type": "stream",
     "text": [
      "['HARPS.2005-04-04T04:30:17.582_e2ds_A.fits', 'HARPS.2005-04-04T04:30:17.582_s1d_A.fits', 'HARPS.2005-04-04T04:30:17.582_ccf_G2_A.fits', 'HARPS.2005-04-04T04:30:17.582_bis_G2_A.fits', 'HARPS.2005-04-04T04:30:17.582_s1d_B.fits', 'HARPS.2005-04-04T04:30:17.582_e2ds_B.fits']\n"
     ]
    }
   ],
   "source": [
    "print(filelist)"
   ]
  },
  {
   "cell_type": "code",
   "execution_count": 86,
   "id": "c9810c9d",
   "metadata": {},
   "outputs": [
    {
     "name": "stdout",
     "output_type": "stream",
     "text": [
      "HARPS.2005-04-04T04:30:17.582_s1d_A.fits\n",
      "HARPS.2005-04-04T04:30:17.582_s1d_B.fits\n"
     ]
    }
   ],
   "source": [
    "for file in filelist:\n",
    "    if 's1d' in file:\n",
    "        print(file)"
   ]
  },
  {
   "cell_type": "code",
   "execution_count": 87,
   "id": "c6808d65",
   "metadata": {},
   "outputs": [],
   "source": [
    "hdul = fits.open(filepath + \"HARPS.2005-04-04T04:30:17.582_s1d_B.fits\")"
   ]
  },
  {
   "cell_type": "code",
   "execution_count": 88,
   "id": "77a4b4bb",
   "metadata": {},
   "outputs": [
    {
     "name": "stdout",
     "output_type": "stream",
     "text": [
      "Filename: /Users/waritwij/Downloads/UROP/HARPS.2005-04-04T04:30:17.582_s1d_B.fits\n",
      "No.    Name      Ver    Type      Cards   Dimensions   Format\n",
      "  0  PRIMARY       1 PrimaryHDU    2835   (313330,)   float32   \n"
     ]
    }
   ],
   "source": [
    "hdul.info()"
   ]
  },
  {
   "cell_type": "code",
   "execution_count": 89,
   "id": "af8dfd82",
   "metadata": {},
   "outputs": [],
   "source": [
    "spectArrB = hdul[0].data"
   ]
  },
  {
   "cell_type": "code",
   "execution_count": 90,
   "id": "32e012cd",
   "metadata": {},
   "outputs": [
    {
     "data": {
      "text/plain": [
       "[<matplotlib.lines.Line2D at 0x7fa68cfd52e0>]"
      ]
     },
     "execution_count": 90,
     "metadata": {},
     "output_type": "execute_result"
    },
    {
     "data": {
      "image/png": "[encoded data removed]",
      "text/plain": [
       "<Figure size 432x288 with 1 Axes>"
      ]
     },
     "metadata": {
      "needs_background": "light"
     },
     "output_type": "display_data"
    }
   ],
   "source": [
    "plt.plot(spectArrB)"
   ]
  },
  {
   "cell_type": "code",
   "execution_count": null,
   "id": "41b6b93d",
   "metadata": {},
   "outputs": [],
   "source": []
  },
  {
   "cell_type": "code",
   "execution_count": null,
   "id": "06b1171e",
   "metadata": {},
   "outputs": [],
   "source": []
  }
 ],
 "metadata": {
  "kernelspec": {
   "display_name": "Python 3",
   "language": "python",
   "name": "python3"
  },
  "language_info": {
   "codemirror_mode": {
    "name": "ipython",
    "version": 3
   },
   "file_extension": ".py",
   "mimetype": "text/x-python",
   "name": "python",
   "nbconvert_exporter": "python",
   "pygments_lexer": "ipython3",
   "version": "3.8.8"
  }
 },
 "nbformat": 4,
 "nbformat_minor": 5
}
